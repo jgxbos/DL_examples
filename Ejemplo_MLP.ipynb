{
  "nbformat": 4,
  "nbformat_minor": 0,
  "metadata": {
    "colab": {
      "name": "Untitled0.ipynb",
      "provenance": [],
      "authorship_tag": "ABX9TyNtSquTVla1JuaHRPUCWaci",
      "include_colab_link": true
    },
    "kernelspec": {
      "name": "python3",
      "display_name": "Python 3"
    },
    "language_info": {
      "name": "python"
    }
  },
  "cells": [
    {
      "cell_type": "markdown",
      "metadata": {
        "id": "view-in-github",
        "colab_type": "text"
      },
      "source": [
        "<a href=\"https://colab.research.google.com/github/jgxbos/DL_examples/blob/main/Ejemplo_MLP.ipynb\" target=\"_parent\"><img src=\"https://colab.research.google.com/assets/colab-badge.svg\" alt=\"Open In Colab\"/></a>"
      ]
    },
    {
      "cell_type": "code",
      "execution_count": 1,
      "metadata": {
        "id": "QGzbR_DdWcAr"
      },
      "outputs": [],
      "source": [
        "import numpy as np\n",
        "from keras.models import Sequential\n",
        "from keras.layers import Flatten\n"
      ]
    },
    {
      "cell_type": "code",
      "source": [
        "model = Sequential()\n",
        "model.add( Flatten(input_shape = (28,28)))"
      ],
      "metadata": {
        "id": "KV6tkRhDo0w0"
      },
      "execution_count": 7,
      "outputs": []
    },
    {
      "cell_type": "code",
      "source": [
        "from keras.layers import Dense #Fully connected layers\n",
        "model.add(Dense(512, activation = 'relu')) #Añadimos dos capas densas (fully connected de 512 neuronas)\n",
        "model.add(Dense(512, activation = 'relu'))\n",
        "\n",
        "model.add(Dense(10, activation = 'softmax')) #Añadimos capa softmax de salida con 10 nueronas, problemas nmist"
      ],
      "metadata": {
        "id": "MiB_EnaJo7tm"
      },
      "execution_count": 8,
      "outputs": []
    },
    {
      "cell_type": "code",
      "source": [
        "A=np.array([[[1],[2]],[[3],[4]]])"
      ],
      "metadata": {
        "id": "lQeBaTefWeON"
      },
      "execution_count": null,
      "outputs": []
    },
    {
      "cell_type": "code",
      "source": [
        "print(A)"
      ],
      "metadata": {
        "colab": {
          "base_uri": "https://localhost:8080/"
        },
        "id": "lvEC1C0zWyGW",
        "outputId": "94f969f1-2de8-4d5a-adff-b49033a3c0bf"
      },
      "execution_count": null,
      "outputs": [
        {
          "output_type": "stream",
          "name": "stdout",
          "text": [
            "[[[1]\n",
            "  [2]]\n",
            "\n",
            " [[3]\n",
            "  [4]]]\n"
          ]
        }
      ]
    },
    {
      "cell_type": "code",
      "source": [
        "A.shape\n"
      ],
      "metadata": {
        "colab": {
          "base_uri": "https://localhost:8080/"
        },
        "id": "FAmQ9W4pXFxe",
        "outputId": "edb6f51e-9e9a-431e-bf37-e364ddb1588f"
      },
      "execution_count": null,
      "outputs": [
        {
          "output_type": "execute_result",
          "data": {
            "text/plain": [
              "(2, 2, 1)"
            ]
          },
          "metadata": {},
          "execution_count": 10
        }
      ]
    },
    {
      "cell_type": "code",
      "source": [
        "np.random.randn(3,4)+np.random.randn(1,4)"
      ],
      "metadata": {
        "colab": {
          "base_uri": "https://localhost:8080/"
        },
        "id": "aO1dBEy-XLqP",
        "outputId": "bbe234d2-6f52-4217-923c-f7aaaefd06e4"
      },
      "execution_count": null,
      "outputs": [
        {
          "output_type": "execute_result",
          "data": {
            "text/plain": [
              "array([[-0.3334961 , -2.64514861, -2.76902696,  0.74756856],\n",
              "       [ 0.85810806, -2.19988319, -3.15740936,  1.41827399],\n",
              "       [-2.04720872, -0.88827393, -0.31226032, -0.12238186]])"
            ]
          },
          "metadata": {},
          "execution_count": 11
        }
      ]
    },
    {
      "cell_type": "code",
      "source": [
        "np.array([[1,1],[1,-1]])"
      ],
      "metadata": {
        "colab": {
          "base_uri": "https://localhost:8080/"
        },
        "id": "pV9Rh-6NXnVS",
        "outputId": "f8fc77be-a94e-4cad-aeab-e5a7995d8479"
      },
      "execution_count": null,
      "outputs": [
        {
          "output_type": "execute_result",
          "data": {
            "text/plain": [
              "array([[ 1,  1],\n",
              "       [ 1, -1]])"
            ]
          },
          "metadata": {},
          "execution_count": 12
        }
      ]
    },
    {
      "cell_type": "code",
      "source": [
        "t_x = np.array([[9, 2, 5, 0, 0],\n",
        "                [7, 5, 0, 0 ,0]])\n"
      ],
      "metadata": {
        "id": "s9vEbo9nZSoB"
      },
      "execution_count": null,
      "outputs": []
    },
    {
      "cell_type": "code",
      "source": [
        "x_exp=np.exp(t_x)\n",
        "x_sum=np.sum(x_exp,axis=1)"
      ],
      "metadata": {
        "id": "vEJzz5T1km6t"
      },
      "execution_count": null,
      "outputs": []
    },
    {
      "cell_type": "code",
      "source": [
        "x_sum"
      ],
      "metadata": {
        "colab": {
          "base_uri": "https://localhost:8080/"
        },
        "id": "SZzEyltekrqS",
        "outputId": "b9f77051-8bd3-4829-b006-c89262a30cea"
      },
      "execution_count": null,
      "outputs": [
        {
          "output_type": "execute_result",
          "data": {
            "text/plain": [
              "array([8260.88614278, 1248.04631753])"
            ]
          },
          "metadata": {},
          "execution_count": 19
        }
      ]
    },
    {
      "cell_type": "code",
      "source": [
        "x = np.random.rand(3, 2)"
      ],
      "metadata": {
        "id": "OcSY_M7ikuKx"
      },
      "execution_count": 3,
      "outputs": []
    },
    {
      "cell_type": "code",
      "source": [
        "y = np.sum(x, axis=0, keepdims=True)"
      ],
      "metadata": {
        "id": "joIV0diQ-qRO"
      },
      "execution_count": 4,
      "outputs": []
    },
    {
      "cell_type": "code",
      "source": [
        "y.shape"
      ],
      "metadata": {
        "colab": {
          "base_uri": "https://localhost:8080/"
        },
        "id": "gwINoZW0-zwk",
        "outputId": "75a84336-9868-4879-fc4f-f714f8515f43"
      },
      "execution_count": 5,
      "outputs": [
        {
          "output_type": "execute_result",
          "data": {
            "text/plain": [
              "(1, 2)"
            ]
          },
          "metadata": {},
          "execution_count": 5
        }
      ]
    },
    {
      "cell_type": "code",
      "source": [
        ""
      ],
      "metadata": {
        "id": "SfjLobpS-2S2"
      },
      "execution_count": null,
      "outputs": []
    }
  ]
}