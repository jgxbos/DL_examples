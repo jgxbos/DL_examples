{
  "nbformat": 4,
  "nbformat_minor": 0,
  "metadata": {
    "colab": {
      "name": "Untitled0.ipynb",
      "provenance": [],
      "collapsed_sections": [],
      "authorship_tag": "ABX9TyOSPKQgfYIsmxiY5q0Twx2D",
      "include_colab_link": true
    },
    "kernelspec": {
      "name": "python3",
      "display_name": "Python 3"
    },
    "language_info": {
      "name": "python"
    }
  },
  "cells": [
    {
      "cell_type": "markdown",
      "metadata": {
        "id": "view-in-github",
        "colab_type": "text"
      },
      "source": [
        "<a href=\"https://colab.research.google.com/github/jgxbos/DL_examples/blob/main/Ejemplo_MLP.ipynb\" target=\"_parent\"><img src=\"https://colab.research.google.com/assets/colab-badge.svg\" alt=\"Open In Colab\"/></a>"
      ]
    },
    {
      "cell_type": "code",
      "execution_count": 1,
      "metadata": {
        "id": "QGzbR_DdWcAr"
      },
      "outputs": [],
      "source": [
        "import numpy as np\n",
        "from keras.models import Sequential\n",
        "from keras.layers import Flatten\n"
      ]
    },
    {
      "cell_type": "code",
      "source": [
        "model = Sequential()\n",
        "model.add( Flatten(input_shape = (28,28)))"
      ],
      "metadata": {
        "id": "KV6tkRhDo0w0"
      },
      "execution_count": 7,
      "outputs": []
    },
    {
      "cell_type": "code",
      "source": [
        "from keras.layers import Dense #Fully connected layers\n",
        "model.add(Dense(512, activation = 'relu')) #Añadimos dos capas densas (fully connected de 512 neuronas)\n",
        "model.add(Dense(512, activation = 'relu'))\n",
        "\n",
        "model.add(Dense(10, activation = 'softmax')) #Añadimos capa softmax de salida con 10 nueronas, problemas nmist"
      ],
      "metadata": {
        "id": "MiB_EnaJo7tm"
      },
      "execution_count": 8,
      "outputs": []
    }
  ]
}